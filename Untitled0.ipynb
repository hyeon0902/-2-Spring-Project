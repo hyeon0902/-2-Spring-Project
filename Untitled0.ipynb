{
  "nbformat": 4,
  "nbformat_minor": 0,
  "metadata": {
    "colab": {
      "provenance": [],
      "authorship_tag": "ABX9TyMzQDOFiHinDRlcJhqKkZkr",
      "include_colab_link": true
    },
    "kernelspec": {
      "name": "python3",
      "display_name": "Python 3"
    },
    "language_info": {
      "name": "python"
    }
  },
  "cells": [
    {
      "cell_type": "markdown",
      "metadata": {
        "id": "view-in-github",
        "colab_type": "text"
      },
      "source": [
        "<a href=\"https://colab.research.google.com/github/hyeon0902/-2-Spring-Project/blob/main/Untitled0.ipynb\" target=\"_parent\"><img src=\"https://colab.research.google.com/assets/colab-badge.svg\" alt=\"Open In Colab\"/></a>"
      ]
    },
    {
      "cell_type": "code",
      "execution_count": 4,
      "metadata": {
        "colab": {
          "base_uri": "https://localhost:8080/"
        },
        "id": "KhTmbDbJ3IlD",
        "outputId": "aaf08ab4-0f00-44db-f3c9-5b9d1a202d2c"
      },
      "outputs": [
        {
          "output_type": "stream",
          "name": "stdout",
          "text": [
            "300\n"
          ]
        }
      ],
      "source": [
        "num1 = 100\n",
        "num2 = 200\n",
        "num3 = num1 + num2\n",
        "\n",
        "print(num3)"
      ]
    },
    {
      "cell_type": "code",
      "source": [],
      "metadata": {
        "id": "KtlhY_xV3-42"
      },
      "execution_count": null,
      "outputs": []
    },
    {
      "cell_type": "markdown",
      "source": [
        "# **구글 코랩을 활용한 파이썬 프로그래밍 실습**"
      ],
      "metadata": {
        "id": "RKmAtpRB4RgN"
      }
    },
    {
      "cell_type": "code",
      "source": [],
      "metadata": {
        "id": "jWK4u5Jm3w5m"
      },
      "execution_count": null,
      "outputs": []
    }
  ]
}